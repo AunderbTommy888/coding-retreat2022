{
 "cells": [
  {
   "cell_type": "code",
   "execution_count": 29,
   "id": "f45b0a2e",
   "metadata": {},
   "outputs": [],
   "source": [
    "from openff.toolkit.topology import Molecule\n",
    "import qcengine\n",
    "from qcelemental.models import AtomicInput, OptimizationInput\n",
    "from qcelemental.models.common_models import Model\n",
    "from qcelemental.models.procedures import QCInputSpecification"
   ]
  },
  {
   "cell_type": "code",
   "execution_count": 30,
   "id": "50d41c64",
   "metadata": {},
   "outputs": [
    {
     "data": {
      "image/svg+xml": [
       "<svg xmlns=\"http://www.w3.org/2000/svg\" xmlns:rdkit=\"http://www.rdkit.org/xml\" xmlns:xlink=\"http://www.w3.org/1999/xlink\" version=\"1.1\" baseProfile=\"full\" xml:space=\"preserve\" width=\"500px\" height=\"300px\" viewBox=\"0 0 500 300\">\n",
       "<!-- END OF HEADER -->\n",
       "<rect style=\"opacity:1.0;fill:#FFFFFF;stroke:none\" width=\"500.0\" height=\"300.0\" x=\"0.0\" y=\"0.0\"> </rect>\n",
       "<path class=\"bond-0 atom-0 atom-1\" d=\"M 185.1,181.4 L 271.5,181.6\" style=\"fill:none;fill-rule:evenodd;stroke:#000000;stroke-width:2.0px;stroke-linecap:butt;stroke-linejoin:miter;stroke-opacity:1\"/>\n",
       "<path class=\"bond-1 atom-1 atom-2\" d=\"M 271.5,181.6 L 314.9,106.9\" style=\"fill:none;fill-rule:evenodd;stroke:#000000;stroke-width:2.0px;stroke-linecap:butt;stroke-linejoin:miter;stroke-opacity:1\"/>\n",
       "<path class=\"bond-2 atom-0 atom-3\" d=\"M 185.1,181.4 L 185.0,250.8\" style=\"fill:none;fill-rule:evenodd;stroke:#000000;stroke-width:2.0px;stroke-linecap:butt;stroke-linejoin:miter;stroke-opacity:1\"/>\n",
       "<path class=\"bond-3 atom-0 atom-4\" d=\"M 185.1,181.4 L 124.2,216.5\" style=\"fill:none;fill-rule:evenodd;stroke:#000000;stroke-width:2.0px;stroke-linecap:butt;stroke-linejoin:miter;stroke-opacity:1\"/>\n",
       "<path class=\"bond-4 atom-0 atom-5\" d=\"M 185.1,181.4 L 151.9,123.6\" style=\"fill:none;fill-rule:evenodd;stroke:#000000;stroke-width:2.0px;stroke-linecap:butt;stroke-linejoin:miter;stroke-opacity:1\"/>\n",
       "<path class=\"bond-5 atom-1 atom-6\" d=\"M 271.5,181.6 L 271.4,251.0\" style=\"fill:none;fill-rule:evenodd;stroke:#000000;stroke-width:2.0px;stroke-linecap:butt;stroke-linejoin:miter;stroke-opacity:1\"/>\n",
       "<path class=\"bond-6 atom-1 atom-7\" d=\"M 271.5,181.6 L 332.3,216.9\" style=\"fill:none;fill-rule:evenodd;stroke:#000000;stroke-width:2.0px;stroke-linecap:butt;stroke-linejoin:miter;stroke-opacity:1\"/>\n",
       "<path class=\"bond-7 atom-2 atom-8\" d=\"M 314.9,106.9 L 375.7,142.2\" style=\"fill:none;fill-rule:evenodd;stroke:#000000;stroke-width:2.0px;stroke-linecap:butt;stroke-linejoin:miter;stroke-opacity:1\"/>\n",
       "<path class=\"bond-8 atom-2 atom-9\" d=\"M 314.9,106.9 L 375.8,71.9\" style=\"fill:none;fill-rule:evenodd;stroke:#000000;stroke-width:2.0px;stroke-linecap:butt;stroke-linejoin:miter;stroke-opacity:1\"/>\n",
       "<path class=\"bond-9 atom-2 atom-10\" d=\"M 314.9,106.9 L 281.6,49.0\" style=\"fill:none;fill-rule:evenodd;stroke:#000000;stroke-width:2.0px;stroke-linecap:butt;stroke-linejoin:miter;stroke-opacity:1\"/>\n",
       "<path class=\"atom-3\" d=\"M 173.9 253.7 L 177.7 253.7 L 177.7 265.7 L 192.2 265.7 L 192.2 253.7 L 196.0 253.7 L 196.0 282.0 L 192.2 282.0 L 192.2 268.9 L 177.7 268.9 L 177.7 282.0 L 173.9 282.0 L 173.9 253.7 \" fill=\"#000000\"/>\n",
       "<path class=\"atom-4\" d=\"M 99.1 210.3 L 103.0 210.3 L 103.0 222.4 L 117.5 222.4 L 117.5 210.3 L 121.3 210.3 L 121.3 238.6 L 117.5 238.6 L 117.5 225.6 L 103.0 225.6 L 103.0 238.6 L 99.1 238.6 L 99.1 210.3 \" fill=\"#000000\"/>\n",
       "<path class=\"atom-5\" d=\"M 131.0 92.4 L 134.8 92.4 L 134.8 104.4 L 149.3 104.4 L 149.3 92.4 L 153.2 92.4 L 153.2 120.7 L 149.3 120.7 L 149.3 107.6 L 134.8 107.6 L 134.8 120.7 L 131.0 120.7 L 131.0 92.4 \" fill=\"#000000\"/>\n",
       "<path class=\"atom-6\" d=\"M 260.3 253.9 L 264.1 253.9 L 264.1 265.9 L 278.6 265.9 L 278.6 253.9 L 282.4 253.9 L 282.4 282.2 L 278.6 282.2 L 278.6 269.1 L 264.1 269.1 L 264.1 282.2 L 260.3 282.2 L 260.3 253.9 \" fill=\"#000000\"/>\n",
       "<path class=\"atom-7\" d=\"M 335.2 210.8 L 339.0 210.8 L 339.0 222.9 L 353.5 222.9 L 353.5 210.8 L 357.3 210.8 L 357.3 239.1 L 353.5 239.1 L 353.5 226.1 L 339.0 226.1 L 339.0 239.1 L 335.2 239.1 L 335.2 210.8 \" fill=\"#000000\"/>\n",
       "<path class=\"atom-8\" d=\"M 378.5 136.1 L 382.4 136.1 L 382.4 148.1 L 396.8 148.1 L 396.8 136.1 L 400.7 136.1 L 400.7 164.4 L 396.8 164.4 L 396.8 151.3 L 382.4 151.3 L 382.4 164.4 L 378.5 164.4 L 378.5 136.1 \" fill=\"#000000\"/>\n",
       "<path class=\"atom-9\" d=\"M 378.7 49.7 L 382.5 49.7 L 382.5 61.7 L 397.0 61.7 L 397.0 49.7 L 400.9 49.7 L 400.9 78.0 L 397.0 78.0 L 397.0 64.9 L 382.5 64.9 L 382.5 78.0 L 378.7 78.0 L 378.7 49.7 \" fill=\"#000000\"/>\n",
       "<path class=\"atom-10\" d=\"M 260.8 17.8 L 264.6 17.8 L 264.6 29.9 L 279.1 29.9 L 279.1 17.8 L 282.9 17.8 L 282.9 46.1 L 279.1 46.1 L 279.1 33.1 L 264.6 33.1 L 264.6 46.1 L 260.8 46.1 L 260.8 17.8 \" fill=\"#000000\"/>\n",
       "</svg>"
      ],
      "text/plain": [
       "<IPython.core.display.SVG object>"
      ]
     },
     "execution_count": 30,
     "metadata": {},
     "output_type": "execute_result"
    }
   ],
   "source": [
    "mol = Molecule.from_smiles(\"CCC\")\n",
    "mol.generate_conformers(n_conformers=1)\n",
    "mol.visualize(\"rdkit\")"
   ]
  },
  {
   "cell_type": "code",
   "execution_count": 31,
   "id": "1ae9fb35",
   "metadata": {},
   "outputs": [
    {
     "data": {
      "text/plain": [
       "{'schema_name': 'qcschema_molecule',\n",
       " 'schema_version': 2,\n",
       " 'validated': True,\n",
       " 'symbols': array(['C', 'C', 'C', 'H', 'H', 'H', 'H', 'H', 'H', 'H', 'H'], dtype='<U1'),\n",
       " 'geometry': array([[ 2.29848801, -0.45910588,  0.4002285 ],\n",
       "        [ 0.07003991,  1.2543373 , -0.12218767],\n",
       "        [-2.29068092, -0.35767834, -0.38770454],\n",
       "        [ 1.59886993, -2.42010654,  0.8535708 ],\n",
       "        [ 3.58240142, -0.65088498, -1.20898496],\n",
       "        [ 3.22220326,  0.19860749,  2.16284195],\n",
       "        [-0.27539602,  2.62148252,  1.4412282 ],\n",
       "        [ 0.46275112,  2.35562944, -1.85017942],\n",
       "        [-2.9804508 , -0.4610761 , -2.3463816 ],\n",
       "        [-1.85570072, -2.35535096,  0.17702883],\n",
       "        [-3.83252518,  0.27414605,  0.88053992]]),\n",
       " 'name': 'C3H8',\n",
       " 'molecular_charge': 0.0,\n",
       " 'molecular_multiplicity': 1,\n",
       " 'connectivity': [(0, 1, 1.0),\n",
       "  (0, 3, 1.0),\n",
       "  (0, 4, 1.0),\n",
       "  (0, 5, 1.0),\n",
       "  (1, 2, 1.0),\n",
       "  (1, 6, 1.0),\n",
       "  (1, 7, 1.0),\n",
       "  (2, 8, 1.0),\n",
       "  (2, 9, 1.0),\n",
       "  (2, 10, 1.0)],\n",
       " 'fix_com': False,\n",
       " 'fix_orientation': False,\n",
       " 'provenance': {'creator': 'QCElemental',\n",
       "  'version': 'v0.25.1',\n",
       "  'routine': 'qcelemental.molparse.from_schema'},\n",
       " 'extras': {'canonical_isomeric_explicit_hydrogen_mapped_smiles': '[C:1]([C:2]([C:3]([H:9])([H:10])[H:11])([H:7])[H:8])([H:4])([H:5])[H:6]'}}"
      ]
     },
     "execution_count": 31,
     "metadata": {},
     "output_type": "execute_result"
    }
   ],
   "source": [
    "qcel_mol = mol.to_qcschema()\n",
    "qcel_mol.dict()"
   ]
  },
  {
   "cell_type": "code",
   "execution_count": 35,
   "id": "8436978b",
   "metadata": {},
   "outputs": [],
   "source": [
    "# mace_model = Model(method=\"MACE_SPICE_larger.model\", basis=None)\n",
    "mace_model = Model(method=\"./MACE_model_run-123.model\", basis=None)\n",
    "ani_model = Model(method=\"ani2x\", basis=None)"
   ]
  },
  {
   "cell_type": "code",
   "execution_count": 36,
   "id": "d955b8dc",
   "metadata": {},
   "outputs": [
    {
     "data": {
      "text/plain": [
       "AtomicInput(driver='energy', model={'method': './MACE_model_run-123.model', 'basis': None}, molecule_hash='26538b8')"
      ]
     },
     "execution_count": 36,
     "metadata": {},
     "output_type": "execute_result"
    }
   ],
   "source": [
    "qc_task = AtomicInput(molecule=qcel_mol, driver=\"energy\", model=mace_model)\n",
    "qc_task"
   ]
  },
  {
   "cell_type": "code",
   "execution_count": 37,
   "id": "be485d58",
   "metadata": {},
   "outputs": [],
   "source": [
    "# compute the energy\n",
    "result = qcengine.compute(input_data=qc_task, program=\"mace\")"
   ]
  },
  {
   "cell_type": "code",
   "execution_count": 38,
   "id": "1033a3e7",
   "metadata": {},
   "outputs": [
    {
     "data": {
      "text/plain": [
       "{'id': None,\n",
       " 'input_data': {'id': None,\n",
       "  'schema_name': 'qcschema_input',\n",
       "  'schema_version': 1,\n",
       "  'molecule': {'schema_name': 'qcschema_molecule',\n",
       "   'schema_version': 2,\n",
       "   'validated': True,\n",
       "   'symbols': array(['C', 'C', 'C', 'H', 'H', 'H', 'H', 'H', 'H', 'H', 'H'], dtype='<U1'),\n",
       "   'geometry': array([[ 2.29848801, -0.45910588,  0.4002285 ],\n",
       "          [ 0.07003991,  1.2543373 , -0.12218767],\n",
       "          [-2.29068092, -0.35767834, -0.38770454],\n",
       "          [ 1.59886993, -2.42010654,  0.8535708 ],\n",
       "          [ 3.58240142, -0.65088498, -1.20898496],\n",
       "          [ 3.22220326,  0.19860749,  2.16284195],\n",
       "          [-0.27539602,  2.62148252,  1.4412282 ],\n",
       "          [ 0.46275112,  2.35562944, -1.85017942],\n",
       "          [-2.9804508 , -0.4610761 , -2.3463816 ],\n",
       "          [-1.85570072, -2.35535096,  0.17702883],\n",
       "          [-3.83252518,  0.27414605,  0.88053992]]),\n",
       "   'name': 'C3H8',\n",
       "   'molecular_charge': 0.0,\n",
       "   'molecular_multiplicity': 1,\n",
       "   'connectivity': [(0, 1, 1.0),\n",
       "    (0, 3, 1.0),\n",
       "    (0, 4, 1.0),\n",
       "    (0, 5, 1.0),\n",
       "    (1, 2, 1.0),\n",
       "    (1, 6, 1.0),\n",
       "    (1, 7, 1.0),\n",
       "    (2, 8, 1.0),\n",
       "    (2, 9, 1.0),\n",
       "    (2, 10, 1.0)],\n",
       "   'fix_com': False,\n",
       "   'fix_orientation': False,\n",
       "   'provenance': {'creator': 'QCElemental',\n",
       "    'version': 'v0.25.1',\n",
       "    'routine': 'qcelemental.molparse.from_schema'},\n",
       "   'extras': {'canonical_isomeric_explicit_hydrogen_mapped_smiles': '[C:1]([C:2]([C:3]([H:9])([H:10])[H:11])([H:7])[H:8])([H:4])([H:5])[H:6]'}},\n",
       "  'driver': <DriverEnum.energy: 'energy'>,\n",
       "  'model': {'method': './MACE_model_run-123.model', 'basis': None},\n",
       "  'keywords': {},\n",
       "  'protocols': {},\n",
       "  'extras': {},\n",
       "  'provenance': {'creator': 'QCElemental',\n",
       "   'version': 'v0.25.1',\n",
       "   'routine': 'qcelemental.models.results',\n",
       "   'cpu': '11th Gen Intel(R) Core(TM) i7-11700 @ 2.50GHz',\n",
       "   'hostname': 'tommy-Thirdwave-PC',\n",
       "   'username': 'tommy',\n",
       "   'qcengine_version': 'v0.25.0',\n",
       "   'wall_time': 3.075599670410156e-05}},\n",
       " 'success': False,\n",
       " 'error': {'error_type': 'input_error',\n",
       "  'error_message': 'QCEngine Input Error: Program mace is not registered to QCEngine.',\n",
       "  'extras': None},\n",
       " 'extras': None}"
      ]
     },
     "execution_count": 38,
     "metadata": {},
     "output_type": "execute_result"
    }
   ],
   "source": [
    "result.dict()"
   ]
  },
  {
   "cell_type": "code",
   "execution_count": 39,
   "id": "1c770943",
   "metadata": {},
   "outputs": [],
   "source": [
    "ani_task = AtomicInput(molecule=qcel_mol, driver=\"energy\", model=ani_model)"
   ]
  },
  {
   "cell_type": "code",
   "execution_count": 40,
   "id": "45b57901",
   "metadata": {},
   "outputs": [
    {
     "name": "stderr",
     "output_type": "stream",
     "text": [
      "/home/tommy/.pyenv/versions/miniconda3-latest/envs/openmm-8-beta-linux/lib/python3.10/site-packages/torchani/aev.py:249: UserWarning: __floordiv__ is deprecated, and its behavior will change in a future version of pytorch. It currently rounds toward 0 (like the 'trunc' function NOT 'floor'). This results in incorrect rounding for negative values. To keep the current behavior, use torch.div(a, b, rounding_mode='trunc'), or for actual floor division, use torch.div(a, b, rounding_mode='floor').\n",
      "  pair_sizes = counts * (counts - 1) // 2\n"
     ]
    }
   ],
   "source": [
    "ani_result = qcengine.compute(input_data=ani_task, program=\"torchani\")"
   ]
  },
  {
   "cell_type": "code",
   "execution_count": 41,
   "id": "aed89c7e",
   "metadata": {},
   "outputs": [
    {
     "data": {
      "text/plain": [
       "{'id': None,\n",
       " 'schema_name': 'qcschema_output',\n",
       " 'schema_version': 1,\n",
       " 'molecule': {'schema_name': 'qcschema_molecule',\n",
       "  'schema_version': 2,\n",
       "  'validated': True,\n",
       "  'symbols': array(['C', 'C', 'C', 'H', 'H', 'H', 'H', 'H', 'H', 'H', 'H'], dtype='<U1'),\n",
       "  'geometry': array([[ 2.29848801, -0.45910588,  0.4002285 ],\n",
       "         [ 0.07003991,  1.2543373 , -0.12218767],\n",
       "         [-2.29068092, -0.35767834, -0.38770454],\n",
       "         [ 1.59886993, -2.42010654,  0.8535708 ],\n",
       "         [ 3.58240142, -0.65088498, -1.20898496],\n",
       "         [ 3.22220326,  0.19860749,  2.16284195],\n",
       "         [-0.27539602,  2.62148252,  1.4412282 ],\n",
       "         [ 0.46275112,  2.35562944, -1.85017942],\n",
       "         [-2.9804508 , -0.4610761 , -2.3463816 ],\n",
       "         [-1.85570072, -2.35535096,  0.17702883],\n",
       "         [-3.83252518,  0.27414605,  0.88053992]]),\n",
       "  'name': 'C3H8',\n",
       "  'molecular_charge': 0.0,\n",
       "  'molecular_multiplicity': 1,\n",
       "  'connectivity': [(0, 1, 1.0),\n",
       "   (0, 3, 1.0),\n",
       "   (0, 4, 1.0),\n",
       "   (0, 5, 1.0),\n",
       "   (1, 2, 1.0),\n",
       "   (1, 6, 1.0),\n",
       "   (1, 7, 1.0),\n",
       "   (2, 8, 1.0),\n",
       "   (2, 9, 1.0),\n",
       "   (2, 10, 1.0)],\n",
       "  'fix_com': False,\n",
       "  'fix_orientation': False,\n",
       "  'provenance': {'creator': 'QCElemental',\n",
       "   'version': 'v0.25.1',\n",
       "   'routine': 'qcelemental.molparse.from_schema'},\n",
       "  'extras': {'canonical_isomeric_explicit_hydrogen_mapped_smiles': '[C:1]([C:2]([C:3]([H:9])([H:10])[H:11])([H:7])[H:8])([H:4])([H:5])[H:6]'}},\n",
       " 'driver': <DriverEnum.energy: 'energy'>,\n",
       " 'model': {'method': 'ani2x', 'basis': None},\n",
       " 'keywords': {},\n",
       " 'protocols': {},\n",
       " 'extras': {'ensemble_energies': array([-119.08751970753357, -119.08714099079654, -119.08784615844772,\n",
       "         -119.08742099851654, -119.08777392134354, -119.0874127581744 ,\n",
       "         -119.08802804574654, -119.08700263724015]),\n",
       "  'ensemble_energy_avg': -119.08751815222487,\n",
       "  'ensemble_energy_std': 0.0003508261551844683,\n",
       "  'ensemble_per_root_atom_disagreement': 0.0001057780657627162},\n",
       " 'provenance': {'creator': 'torchani',\n",
       "  'version': 'unknown',\n",
       "  'routine': 'torchani.builtin.aev_computer',\n",
       "  'qcengine_version': 'v0.25.0',\n",
       "  'wall_time': 0.021000146865844727,\n",
       "  'username': 'tommy',\n",
       "  'hostname': 'tommy-Thirdwave-PC',\n",
       "  'cpu': '11th Gen Intel(R) Core(TM) i7-11700 @ 2.50GHz'},\n",
       " 'properties': {'return_energy': -119.08751815222487},\n",
       " 'wavefunction': None,\n",
       " 'return_result': -119.08751815222487,\n",
       " 'stdout': None,\n",
       " 'stderr': None,\n",
       " 'native_files': {},\n",
       " 'success': True,\n",
       " 'error': None}"
      ]
     },
     "execution_count": 41,
     "metadata": {},
     "output_type": "execute_result"
    }
   ],
   "source": [
    "ani_result.dict()"
   ]
  },
  {
   "cell_type": "code",
   "execution_count": 42,
   "id": "596fa564",
   "metadata": {},
   "outputs": [
    {
     "data": {
      "text/plain": [
       "OptimizationInput(model={'method': './MACE_model_run-123.model', 'basis': None}, molecule_hash='26538b8')"
      ]
     },
     "execution_count": 42,
     "metadata": {},
     "output_type": "execute_result"
    }
   ],
   "source": [
    "geometric_input = OptimizationInput(initial_molecule=qcel_mol, input_specification=QCInputSpecification(model=mace_model), keywords={\"coordsys\": \"dlc\", \"maxiter\": 300, \"program\": \"mace\"})\n",
    "geometric_input"
   ]
  },
  {
   "cell_type": "code",
   "execution_count": 43,
   "id": "8a56532a",
   "metadata": {},
   "outputs": [],
   "source": [
    "opt_result = qcengine.compute_procedure(input_data=geometric_input, procedure=\"geometric\")"
   ]
  },
  {
   "cell_type": "code",
   "execution_count": 45,
   "id": "34b57f70",
   "metadata": {},
   "outputs": [
    {
     "ename": "AttributeError",
     "evalue": "'FailedOperation' object has no attribute 'trajectory'",
     "output_type": "error",
     "traceback": [
      "\u001b[0;31m---------------------------------------------------------------------------\u001b[0m",
      "\u001b[0;31mAttributeError\u001b[0m                            Traceback (most recent call last)",
      "Cell \u001b[0;32mIn [45], line 1\u001b[0m\n\u001b[0;32m----> 1\u001b[0m \u001b[38;5;28mlen\u001b[39m(\u001b[43mopt_result\u001b[49m\u001b[38;5;241;43m.\u001b[39;49m\u001b[43mtrajectory\u001b[49m)\n",
      "\u001b[0;31mAttributeError\u001b[0m: 'FailedOperation' object has no attribute 'trajectory'"
     ]
    }
   ],
   "source": [
    "len(opt_result.trajectory)"
   ]
  },
  {
   "cell_type": "code",
   "execution_count": 15,
   "id": "9027af21",
   "metadata": {},
   "outputs": [
    {
     "ename": "AttributeError",
     "evalue": "'FailedOperation' object has no attribute 'trajectory'",
     "output_type": "error",
     "traceback": [
      "\u001b[0;31m---------------------------------------------------------------------------\u001b[0m",
      "\u001b[0;31mAttributeError\u001b[0m                            Traceback (most recent call last)",
      "Cell \u001b[0;32mIn [15], line 1\u001b[0m\n\u001b[0;32m----> 1\u001b[0m \u001b[43mopt_result\u001b[49m\u001b[38;5;241;43m.\u001b[39;49m\u001b[43mtrajectory\u001b[49m[\u001b[38;5;241m-\u001b[39m\u001b[38;5;241m1\u001b[39m]\u001b[38;5;241m.\u001b[39mdict()\n",
      "\u001b[0;31mAttributeError\u001b[0m: 'FailedOperation' object has no attribute 'trajectory'"
     ]
    }
   ],
   "source": [
    "opt_result.trajectory[-1].dict()"
   ]
  },
  {
   "cell_type": "code",
   "execution_count": null,
   "id": "fef8c343",
   "metadata": {},
   "outputs": [],
   "source": [
    "from openmm import unit\n",
    "mol._conformers=[]\n",
    "for result in opt_result.trajectory:\n",
    "    mol.add_conformer(result.molecule.geometry * unit.bohr)"
   ]
  },
  {
   "cell_type": "code",
   "execution_count": null,
   "id": "8cf54cd8",
   "metadata": {},
   "outputs": [],
   "source": [
    "mol.to_file(\"mol.xyz\", \"xyz\")"
   ]
  },
  {
   "cell_type": "code",
   "execution_count": null,
   "id": "ff2d6dc8",
   "metadata": {},
   "outputs": [],
   "source": [
    "ani_geo_input = OptimizationInput(initial_molecule=qcel_mol, input_specification=QCInputSpecification(model=ani_model), keywords={\"coordsys\": \"dlc\", \"maxiter\": 300, \"program\": \"torchani\"})\n",
    "ani_geo_input\n",
    "\n"
   ]
  },
  {
   "cell_type": "code",
   "execution_count": null,
   "id": "81e7afd6",
   "metadata": {},
   "outputs": [],
   "source": [
    "ani_result = qcengine.compute_procedure(input_data=ani_geo_input, procedure=\"geometric\")"
   ]
  },
  {
   "cell_type": "code",
   "execution_count": null,
   "id": "b015cc39",
   "metadata": {},
   "outputs": [],
   "source": [
    "len(ani_result.trajectory)"
   ]
  },
  {
   "cell_type": "code",
   "execution_count": null,
   "id": "64a3b8bc",
   "metadata": {},
   "outputs": [],
   "source": []
  },
  {
   "cell_type": "code",
   "execution_count": null,
   "id": "5787c397",
   "metadata": {},
   "outputs": [],
   "source": []
  }
 ],
 "metadata": {
  "kernelspec": {
   "display_name": "Python 3 (ipykernel)",
   "language": "python",
   "name": "python3"
  },
  "language_info": {
   "codemirror_mode": {
    "name": "ipython",
    "version": 3
   },
   "file_extension": ".py",
   "mimetype": "text/x-python",
   "name": "python",
   "nbconvert_exporter": "python",
   "pygments_lexer": "ipython3",
   "version": "3.10.6"
  }
 },
 "nbformat": 4,
 "nbformat_minor": 5
}
