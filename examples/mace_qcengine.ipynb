{
 "cells": [
  {
   "cell_type": "code",
   "execution_count": 1,
   "id": "f45b0a2e",
   "metadata": {},
   "outputs": [
    {
     "name": "stderr",
     "output_type": "stream",
     "text": [
      "Warning: Unable to load toolkit 'OpenEye Toolkit'. The Open Force Field Toolkit does not require the OpenEye Toolkits, and can use RDKit/AmberTools instead. However, if you have a valid license for the OpenEye Toolkits, consider installing them for faster performance and additional file format support: https://docs.eyesopen.com/toolkits/python/quickstart-python/linuxosx.html OpenEye offers free Toolkit licenses for academics: https://www.eyesopen.com/academic-licensing\n"
     ]
    }
   ],
   "source": [
    "from openff.toolkit.topology import Molecule\n",
    "import qcengine\n",
    "from qcelemental.models import AtomicInput, OptimizationInput\n",
    "from qcelemental.models.common_models import Model\n",
    "from qcelemental.models.procedures import QCInputSpecification"
   ]
  },
  {
   "cell_type": "code",
   "execution_count": 4,
   "id": "50d41c64",
   "metadata": {},
   "outputs": [
    {
     "data": {
      "image/svg+xml": [
       "<svg xmlns=\"http://www.w3.org/2000/svg\" xmlns:rdkit=\"http://www.rdkit.org/xml\" xmlns:xlink=\"http://www.w3.org/1999/xlink\" version=\"1.1\" baseProfile=\"full\" xml:space=\"preserve\" width=\"500px\" height=\"300px\" viewBox=\"0 0 500 300\">\n",
       "<!-- END OF HEADER -->\n",
       "<rect style=\"opacity:1.0;fill:#FFFFFF;stroke:none\" width=\"500.0\" height=\"300.0\" x=\"0.0\" y=\"0.0\"> </rect>\n",
       "<path class=\"bond-0 atom-0 atom-1\" d=\"M 185.1,181.4 L 271.5,181.6\" style=\"fill:none;fill-rule:evenodd;stroke:#000000;stroke-width:2.0px;stroke-linecap:butt;stroke-linejoin:miter;stroke-opacity:1\"/>\n",
       "<path class=\"bond-1 atom-1 atom-2\" d=\"M 271.5,181.6 L 314.9,106.9\" style=\"fill:none;fill-rule:evenodd;stroke:#000000;stroke-width:2.0px;stroke-linecap:butt;stroke-linejoin:miter;stroke-opacity:1\"/>\n",
       "<path class=\"bond-2 atom-0 atom-3\" d=\"M 185.1,181.4 L 185.0,250.8\" style=\"fill:none;fill-rule:evenodd;stroke:#000000;stroke-width:2.0px;stroke-linecap:butt;stroke-linejoin:miter;stroke-opacity:1\"/>\n",
       "<path class=\"bond-3 atom-0 atom-4\" d=\"M 185.1,181.4 L 124.2,216.5\" style=\"fill:none;fill-rule:evenodd;stroke:#000000;stroke-width:2.0px;stroke-linecap:butt;stroke-linejoin:miter;stroke-opacity:1\"/>\n",
       "<path class=\"bond-4 atom-0 atom-5\" d=\"M 185.1,181.4 L 151.9,123.6\" style=\"fill:none;fill-rule:evenodd;stroke:#000000;stroke-width:2.0px;stroke-linecap:butt;stroke-linejoin:miter;stroke-opacity:1\"/>\n",
       "<path class=\"bond-5 atom-1 atom-6\" d=\"M 271.5,181.6 L 271.4,251.0\" style=\"fill:none;fill-rule:evenodd;stroke:#000000;stroke-width:2.0px;stroke-linecap:butt;stroke-linejoin:miter;stroke-opacity:1\"/>\n",
       "<path class=\"bond-6 atom-1 atom-7\" d=\"M 271.5,181.6 L 332.3,216.9\" style=\"fill:none;fill-rule:evenodd;stroke:#000000;stroke-width:2.0px;stroke-linecap:butt;stroke-linejoin:miter;stroke-opacity:1\"/>\n",
       "<path class=\"bond-7 atom-2 atom-8\" d=\"M 314.9,106.9 L 375.7,142.2\" style=\"fill:none;fill-rule:evenodd;stroke:#000000;stroke-width:2.0px;stroke-linecap:butt;stroke-linejoin:miter;stroke-opacity:1\"/>\n",
       "<path class=\"bond-8 atom-2 atom-9\" d=\"M 314.9,106.9 L 375.8,71.9\" style=\"fill:none;fill-rule:evenodd;stroke:#000000;stroke-width:2.0px;stroke-linecap:butt;stroke-linejoin:miter;stroke-opacity:1\"/>\n",
       "<path class=\"bond-9 atom-2 atom-10\" d=\"M 314.9,106.9 L 281.6,49.0\" style=\"fill:none;fill-rule:evenodd;stroke:#000000;stroke-width:2.0px;stroke-linecap:butt;stroke-linejoin:miter;stroke-opacity:1\"/>\n",
       "<path class=\"atom-3\" d=\"M 173.9 253.7 L 177.7 253.7 L 177.7 265.7 L 192.2 265.7 L 192.2 253.7 L 196.0 253.7 L 196.0 282.0 L 192.2 282.0 L 192.2 268.9 L 177.7 268.9 L 177.7 282.0 L 173.9 282.0 L 173.9 253.7 \" fill=\"#000000\"/>\n",
       "<path class=\"atom-4\" d=\"M 99.1 210.3 L 103.0 210.3 L 103.0 222.4 L 117.5 222.4 L 117.5 210.3 L 121.3 210.3 L 121.3 238.6 L 117.5 238.6 L 117.5 225.6 L 103.0 225.6 L 103.0 238.6 L 99.1 238.6 L 99.1 210.3 \" fill=\"#000000\"/>\n",
       "<path class=\"atom-5\" d=\"M 131.0 92.4 L 134.8 92.4 L 134.8 104.4 L 149.3 104.4 L 149.3 92.4 L 153.2 92.4 L 153.2 120.7 L 149.3 120.7 L 149.3 107.6 L 134.8 107.6 L 134.8 120.7 L 131.0 120.7 L 131.0 92.4 \" fill=\"#000000\"/>\n",
       "<path class=\"atom-6\" d=\"M 260.3 253.9 L 264.1 253.9 L 264.1 265.9 L 278.6 265.9 L 278.6 253.9 L 282.4 253.9 L 282.4 282.2 L 278.6 282.2 L 278.6 269.1 L 264.1 269.1 L 264.1 282.2 L 260.3 282.2 L 260.3 253.9 \" fill=\"#000000\"/>\n",
       "<path class=\"atom-7\" d=\"M 335.2 210.8 L 339.0 210.8 L 339.0 222.9 L 353.5 222.9 L 353.5 210.8 L 357.3 210.8 L 357.3 239.1 L 353.5 239.1 L 353.5 226.1 L 339.0 226.1 L 339.0 239.1 L 335.2 239.1 L 335.2 210.8 \" fill=\"#000000\"/>\n",
       "<path class=\"atom-8\" d=\"M 378.5 136.1 L 382.4 136.1 L 382.4 148.1 L 396.8 148.1 L 396.8 136.1 L 400.7 136.1 L 400.7 164.4 L 396.8 164.4 L 396.8 151.3 L 382.4 151.3 L 382.4 164.4 L 378.5 164.4 L 378.5 136.1 \" fill=\"#000000\"/>\n",
       "<path class=\"atom-9\" d=\"M 378.7 49.7 L 382.5 49.7 L 382.5 61.7 L 397.0 61.7 L 397.0 49.7 L 400.9 49.7 L 400.9 78.0 L 397.0 78.0 L 397.0 64.9 L 382.5 64.9 L 382.5 78.0 L 378.7 78.0 L 378.7 49.7 \" fill=\"#000000\"/>\n",
       "<path class=\"atom-10\" d=\"M 260.8 17.8 L 264.6 17.8 L 264.6 29.9 L 279.1 29.9 L 279.1 17.8 L 282.9 17.8 L 282.9 46.1 L 279.1 46.1 L 279.1 33.1 L 264.6 33.1 L 264.6 46.1 L 260.8 46.1 L 260.8 17.8 \" fill=\"#000000\"/>\n",
       "</svg>"
      ],
      "text/plain": [
       "<IPython.core.display.SVG object>"
      ]
     },
     "execution_count": 4,
     "metadata": {},
     "output_type": "execute_result"
    }
   ],
   "source": [
    "mol = Molecule.from_smiles(\"CCC\")\n",
    "mol.generate_conformers(n_conformers=1)\n",
    "mol.visualize(\"rdkit\")"
   ]
  },
  {
   "cell_type": "code",
   "execution_count": 5,
   "id": "1ae9fb35",
   "metadata": {},
   "outputs": [
    {
     "data": {
      "text/plain": [
       "{'schema_name': 'qcschema_molecule',\n",
       " 'schema_version': 2,\n",
       " 'validated': True,\n",
       " 'symbols': array(['C', 'C', 'C', 'H', 'H', 'H', 'H', 'H', 'H', 'H', 'H'], dtype='<U1'),\n",
       " 'geometry': array([[ 2.29848801, -0.45910588,  0.4002285 ],\n",
       "        [ 0.07003991,  1.2543373 , -0.12218767],\n",
       "        [-2.29068092, -0.35767834, -0.38770454],\n",
       "        [ 1.59886993, -2.42010654,  0.8535708 ],\n",
       "        [ 3.58240142, -0.65088498, -1.20898496],\n",
       "        [ 3.22220326,  0.19860749,  2.16284195],\n",
       "        [-0.27539602,  2.62148252,  1.4412282 ],\n",
       "        [ 0.46275112,  2.35562944, -1.85017942],\n",
       "        [-2.9804508 , -0.4610761 , -2.3463816 ],\n",
       "        [-1.85570072, -2.35535096,  0.17702883],\n",
       "        [-3.83252518,  0.27414605,  0.88053992]]),\n",
       " 'name': 'C3H8',\n",
       " 'molecular_charge': 0.0,\n",
       " 'molecular_multiplicity': 1,\n",
       " 'connectivity': [(0, 1, 1.0),\n",
       "  (0, 3, 1.0),\n",
       "  (0, 4, 1.0),\n",
       "  (0, 5, 1.0),\n",
       "  (1, 2, 1.0),\n",
       "  (1, 6, 1.0),\n",
       "  (1, 7, 1.0),\n",
       "  (2, 8, 1.0),\n",
       "  (2, 9, 1.0),\n",
       "  (2, 10, 1.0)],\n",
       " 'fix_com': False,\n",
       " 'fix_orientation': False,\n",
       " 'provenance': {'creator': 'QCElemental',\n",
       "  'version': 'v0.25.0',\n",
       "  'routine': 'qcelemental.molparse.from_schema'},\n",
       " 'extras': {'canonical_isomeric_explicit_hydrogen_mapped_smiles': '[C:1]([C:2]([C:3]([H:9])([H:10])[H:11])([H:7])[H:8])([H:4])([H:5])[H:6]'}}"
      ]
     },
     "execution_count": 5,
     "metadata": {},
     "output_type": "execute_result"
    }
   ],
   "source": [
    "qcel_mol = mol.to_qcschema()\n",
    "qcel_mol.dict()"
   ]
  },
  {
   "cell_type": "code",
   "execution_count": 6,
   "id": "8436978b",
   "metadata": {},
   "outputs": [],
   "source": [
    "mace_model = Model(method=\"MACE_SPICE_larger.model\", basis=None)\n",
    "ani_model = Model(method=\"ani2x\", basis=None)"
   ]
  },
  {
   "cell_type": "code",
   "execution_count": 7,
   "id": "d955b8dc",
   "metadata": {},
   "outputs": [
    {
     "data": {
      "text/plain": [
       "AtomicInput(driver='energy', model={'method': 'MACE_SPICE_larger.model', 'basis': None}, molecule_hash='26538b8')"
      ]
     },
     "execution_count": 7,
     "metadata": {},
     "output_type": "execute_result"
    }
   ],
   "source": [
    "qc_task = AtomicInput(molecule=qcel_mol, driver=\"energy\", model=mace_model)\n",
    "qc_task"
   ]
  },
  {
   "cell_type": "code",
   "execution_count": 8,
   "id": "be485d58",
   "metadata": {},
   "outputs": [],
   "source": [
    "# compute the energy\n",
    "result = qcengine.compute(input_data=qc_task, program=\"mace\")"
   ]
  },
  {
   "cell_type": "code",
   "execution_count": 9,
   "id": "1033a3e7",
   "metadata": {},
   "outputs": [
    {
     "data": {
      "text/plain": [
       "{'id': None,\n",
       " 'schema_name': 'qcschema_output',\n",
       " 'schema_version': 1,\n",
       " 'molecule': {'schema_name': 'qcschema_molecule',\n",
       "  'schema_version': 2,\n",
       "  'validated': True,\n",
       "  'symbols': array(['C', 'C', 'C', 'H', 'H', 'H', 'H', 'H', 'H', 'H', 'H'], dtype='<U1'),\n",
       "  'geometry': array([[ 2.29848801, -0.45910588,  0.4002285 ],\n",
       "         [ 0.07003991,  1.2543373 , -0.12218767],\n",
       "         [-2.29068092, -0.35767834, -0.38770454],\n",
       "         [ 1.59886993, -2.42010654,  0.8535708 ],\n",
       "         [ 3.58240142, -0.65088498, -1.20898496],\n",
       "         [ 3.22220326,  0.19860749,  2.16284195],\n",
       "         [-0.27539602,  2.62148252,  1.4412282 ],\n",
       "         [ 0.46275112,  2.35562944, -1.85017942],\n",
       "         [-2.9804508 , -0.4610761 , -2.3463816 ],\n",
       "         [-1.85570072, -2.35535096,  0.17702883],\n",
       "         [-3.83252518,  0.27414605,  0.88053992]]),\n",
       "  'name': 'C3H8',\n",
       "  'molecular_charge': 0.0,\n",
       "  'molecular_multiplicity': 1,\n",
       "  'connectivity': [(0, 1, 1.0),\n",
       "   (0, 3, 1.0),\n",
       "   (0, 4, 1.0),\n",
       "   (0, 5, 1.0),\n",
       "   (1, 2, 1.0),\n",
       "   (1, 6, 1.0),\n",
       "   (1, 7, 1.0),\n",
       "   (2, 8, 1.0),\n",
       "   (2, 9, 1.0),\n",
       "   (2, 10, 1.0)],\n",
       "  'fix_com': False,\n",
       "  'fix_orientation': False,\n",
       "  'provenance': {'creator': 'QCElemental',\n",
       "   'version': 'v0.25.0',\n",
       "   'routine': 'qcelemental.molparse.from_schema'},\n",
       "  'extras': {'canonical_isomeric_explicit_hydrogen_mapped_smiles': '[C:1]([C:2]([C:3]([H:9])([H:10])[H:11])([H:7])[H:8])([H:4])([H:5])[H:6]'}},\n",
       " 'driver': <DriverEnum.energy: 'energy'>,\n",
       " 'model': {'method': 'MACE_SPICE_larger.model', 'basis': None},\n",
       " 'keywords': {},\n",
       " 'protocols': {},\n",
       " 'extras': {},\n",
       " 'provenance': {'creator': 'mace',\n",
       "  'version': '0.1.0',\n",
       "  'routine': 'mace',\n",
       "  'hostname': 'newhuaweiapstaff-10-57-72-241.ncl.ac.uk',\n",
       "  'username': 'joshuahorton',\n",
       "  'wall_time': 9.478230953216553,\n",
       "  'qcengine_version': 'v0.13.0+403.g7f8c58a.dirty',\n",
       "  'cpu': 'Intel(R) Core(TM) i7-9750H CPU @ 2.60GHz'},\n",
       " 'properties': {'return_energy': -119.19288761751972},\n",
       " 'wavefunction': None,\n",
       " 'return_result': -119.19288761751972,\n",
       " 'stdout': None,\n",
       " 'stderr': None,\n",
       " 'native_files': {},\n",
       " 'success': True,\n",
       " 'error': None}"
      ]
     },
     "execution_count": 9,
     "metadata": {},
     "output_type": "execute_result"
    }
   ],
   "source": [
    "result.dict()"
   ]
  },
  {
   "cell_type": "code",
   "execution_count": 10,
   "id": "1c770943",
   "metadata": {},
   "outputs": [],
   "source": [
    "ani_task = AtomicInput(molecule=qcel_mol, driver=\"energy\", model=ani_model)"
   ]
  },
  {
   "cell_type": "code",
   "execution_count": 11,
   "id": "45b57901",
   "metadata": {},
   "outputs": [
    {
     "name": "stderr",
     "output_type": "stream",
     "text": [
      "/Users/joshuahorton/mambaforge/envs/mace/lib/python3.9/site-packages/torchani/aev.py:16: UserWarning: cuaev not installed\n",
      "  warnings.warn(\"cuaev not installed\")\n"
     ]
    },
    {
     "name": "stdout",
     "output_type": "stream",
     "text": [
      "/Users/joshuahorton/mambaforge/envs/mace/lib/python3.9/site-packages/torchani/resources/\n"
     ]
    },
    {
     "name": "stderr",
     "output_type": "stream",
     "text": [
      "/Users/joshuahorton/mambaforge/envs/mace/lib/python3.9/site-packages/torchani/aev.py:249: UserWarning: __floordiv__ is deprecated, and its behavior will change in a future version of pytorch. It currently rounds toward 0 (like the 'trunc' function NOT 'floor'). This results in incorrect rounding for negative values. To keep the current behavior, use torch.div(a, b, rounding_mode='trunc'), or for actual floor division, use torch.div(a, b, rounding_mode='floor').\n",
      "  pair_sizes = counts * (counts - 1) // 2\n"
     ]
    }
   ],
   "source": [
    "ani_result = qcengine.compute(input_data=ani_task, program=\"torchani\")"
   ]
  },
  {
   "cell_type": "code",
   "execution_count": 12,
   "id": "aed89c7e",
   "metadata": {},
   "outputs": [
    {
     "data": {
      "text/plain": [
       "{'id': None,\n",
       " 'schema_name': 'qcschema_output',\n",
       " 'schema_version': 1,\n",
       " 'molecule': {'schema_name': 'qcschema_molecule',\n",
       "  'schema_version': 2,\n",
       "  'validated': True,\n",
       "  'symbols': array(['C', 'C', 'C', 'H', 'H', 'H', 'H', 'H', 'H', 'H', 'H'], dtype='<U1'),\n",
       "  'geometry': array([[ 2.29848801, -0.45910588,  0.4002285 ],\n",
       "         [ 0.07003991,  1.2543373 , -0.12218767],\n",
       "         [-2.29068092, -0.35767834, -0.38770454],\n",
       "         [ 1.59886993, -2.42010654,  0.8535708 ],\n",
       "         [ 3.58240142, -0.65088498, -1.20898496],\n",
       "         [ 3.22220326,  0.19860749,  2.16284195],\n",
       "         [-0.27539602,  2.62148252,  1.4412282 ],\n",
       "         [ 0.46275112,  2.35562944, -1.85017942],\n",
       "         [-2.9804508 , -0.4610761 , -2.3463816 ],\n",
       "         [-1.85570072, -2.35535096,  0.17702883],\n",
       "         [-3.83252518,  0.27414605,  0.88053992]]),\n",
       "  'name': 'C3H8',\n",
       "  'molecular_charge': 0.0,\n",
       "  'molecular_multiplicity': 1,\n",
       "  'connectivity': [(0, 1, 1.0),\n",
       "   (0, 3, 1.0),\n",
       "   (0, 4, 1.0),\n",
       "   (0, 5, 1.0),\n",
       "   (1, 2, 1.0),\n",
       "   (1, 6, 1.0),\n",
       "   (1, 7, 1.0),\n",
       "   (2, 8, 1.0),\n",
       "   (2, 9, 1.0),\n",
       "   (2, 10, 1.0)],\n",
       "  'fix_com': False,\n",
       "  'fix_orientation': False,\n",
       "  'provenance': {'creator': 'QCElemental',\n",
       "   'version': 'v0.25.0',\n",
       "   'routine': 'qcelemental.molparse.from_schema'},\n",
       "  'extras': {'canonical_isomeric_explicit_hydrogen_mapped_smiles': '[C:1]([C:2]([C:3]([H:9])([H:10])[H:11])([H:7])[H:8])([H:4])([H:5])[H:6]'}},\n",
       " 'driver': <DriverEnum.energy: 'energy'>,\n",
       " 'model': {'method': 'ani2x', 'basis': None},\n",
       " 'keywords': {},\n",
       " 'protocols': {},\n",
       " 'extras': {'ensemble_energies': array([-119.08751973280155, -119.08714099212101, -119.08784615379183,\n",
       "         -119.08742099873898, -119.08777392042862, -119.08741279668173,\n",
       "         -119.08802805321807, -119.08700267692711]),\n",
       "  'ensemble_energy_avg': -119.08751816558862,\n",
       "  'ensemble_energy_std': 0.0003508168098407292,\n",
       "  'ensemble_per_root_atom_disagreement': 0.00010577524803555987},\n",
       " 'provenance': {'creator': 'torchani',\n",
       "  'version': 'unknown',\n",
       "  'routine': 'torchani.builtin.aev_computer',\n",
       "  'hostname': 'newhuaweiapstaff-10-57-72-241.ncl.ac.uk',\n",
       "  'username': 'joshuahorton',\n",
       "  'wall_time': 3.2599003314971924,\n",
       "  'qcengine_version': 'v0.13.0+403.g7f8c58a.dirty',\n",
       "  'cpu': 'Intel(R) Core(TM) i7-9750H CPU @ 2.60GHz'},\n",
       " 'properties': {'return_energy': -119.08751816558862},\n",
       " 'wavefunction': None,\n",
       " 'return_result': -119.08751816558862,\n",
       " 'stdout': None,\n",
       " 'stderr': None,\n",
       " 'native_files': {},\n",
       " 'success': True,\n",
       " 'error': None}"
      ]
     },
     "execution_count": 12,
     "metadata": {},
     "output_type": "execute_result"
    }
   ],
   "source": [
    "ani_result.dict()"
   ]
  },
  {
   "cell_type": "code",
   "execution_count": 13,
   "id": "596fa564",
   "metadata": {},
   "outputs": [
    {
     "data": {
      "text/plain": [
       "OptimizationInput(model={'method': 'MACE_SPICE_larger.model', 'basis': None}, molecule_hash='26538b8')"
      ]
     },
     "execution_count": 13,
     "metadata": {},
     "output_type": "execute_result"
    }
   ],
   "source": [
    "geometric_input = OptimizationInput(initial_molecule=qcel_mol, input_specification=QCInputSpecification(model=mace_model), keywords={\"coordsys\": \"dlc\", \"maxiter\": 300, \"program\": \"mace\"})\n",
    "geometric_input"
   ]
  },
  {
   "cell_type": "code",
   "execution_count": 14,
   "id": "8a56532a",
   "metadata": {},
   "outputs": [],
   "source": [
    "opt_result = qcengine.compute_procedure(input_data=geometric_input, procedure=\"geometric\")"
   ]
  },
  {
   "cell_type": "code",
   "execution_count": 15,
   "id": "34b57f70",
   "metadata": {},
   "outputs": [
    {
     "data": {
      "text/plain": [
       "22"
      ]
     },
     "execution_count": 15,
     "metadata": {},
     "output_type": "execute_result"
    }
   ],
   "source": [
    "len(opt_result.trajectory)"
   ]
  },
  {
   "cell_type": "code",
   "execution_count": 16,
   "id": "9027af21",
   "metadata": {},
   "outputs": [
    {
     "data": {
      "text/plain": [
       "{'id': None,\n",
       " 'schema_name': 'qcschema_output',\n",
       " 'schema_version': 1,\n",
       " 'molecule': {'schema_name': 'qcschema_molecule',\n",
       "  'schema_version': 2,\n",
       "  'validated': True,\n",
       "  'symbols': array(['C', 'C', 'C', 'H', 'H', 'H', 'H', 'H', 'H', 'H', 'H'], dtype='<U1'),\n",
       "  'geometry': array([[ 2.368982871993401 , -0.4505075526288767,  0.3065637570197947],\n",
       "         [-0.0449444053837429,  1.1194370384334245,  0.3419312998971855],\n",
       "         [-2.3357879229361282, -0.3751588973266068, -0.5587721885396059],\n",
       "         [ 2.1878393711372834, -2.1014481603465045,  1.5256839434978682],\n",
       "         [ 2.777011207367034 , -1.1246204576734962, -1.59707758184069  ],\n",
       "         [ 3.9931887832270863,  0.635527332497145 ,  0.9527193829733335],\n",
       "         [-0.3853803588686323,  1.8167279992069145,  2.2524762132411187],\n",
       "         [ 0.200445769473034 ,  2.786819325614363 , -0.8463242852244456],\n",
       "         [-2.0612101753443257, -1.0467926310407667, -2.4870408214576774],\n",
       "         [-2.650872552300327 , -2.024100468604175 ,  0.6355658776153738],\n",
       "         [-4.049272578364686 ,  0.7641164718685789, -0.5257255871822537]]),\n",
       "  'name': 'C3H8',\n",
       "  'molecular_charge': 0.0,\n",
       "  'molecular_multiplicity': 1,\n",
       "  'connectivity': [(0, 1, 1.0),\n",
       "   (0, 3, 1.0),\n",
       "   (0, 4, 1.0),\n",
       "   (0, 5, 1.0),\n",
       "   (1, 2, 1.0),\n",
       "   (1, 6, 1.0),\n",
       "   (1, 7, 1.0),\n",
       "   (2, 8, 1.0),\n",
       "   (2, 9, 1.0),\n",
       "   (2, 10, 1.0)],\n",
       "  'fix_com': True,\n",
       "  'fix_orientation': True,\n",
       "  'provenance': {'creator': 'QCElemental',\n",
       "   'version': 'v0.25.0',\n",
       "   'routine': 'qcelemental.molparse.from_schema'},\n",
       "  'extras': {'canonical_isomeric_explicit_hydrogen_mapped_smiles': '[C:1]([C:2]([C:3]([H:9])([H:10])[H:11])([H:7])[H:8])([H:4])([H:5])[H:6]'}},\n",
       " 'driver': <DriverEnum.gradient: 'gradient'>,\n",
       " 'model': {'method': 'MACE_SPICE_larger.model', 'basis': None},\n",
       " 'keywords': {},\n",
       " 'protocols': {},\n",
       " 'extras': {},\n",
       " 'provenance': {'creator': 'mace',\n",
       "  'version': '0.1.0',\n",
       "  'routine': 'mace',\n",
       "  'hostname': 'newhuaweiapstaff-10-57-72-241.ncl.ac.uk',\n",
       "  'username': 'joshuahorton',\n",
       "  'wall_time': 0.08224296569824219,\n",
       "  'qcengine_version': 'v0.13.0+403.g7f8c58a.dirty',\n",
       "  'cpu': 'Intel(R) Core(TM) i7-9750H CPU @ 2.60GHz'},\n",
       " 'properties': {'return_energy': -119.20927282298345},\n",
       " 'wavefunction': None,\n",
       " 'return_result': array([[-1.0332225993859491e-05,  9.3001797644178839e-06,\n",
       "          6.1409789833451022e-06],\n",
       "        [ 2.5833665379663318e-06, -2.6197454507403258e-05,\n",
       "         -5.5002563844669776e-06],\n",
       "        [ 1.2832533892699424e-05,  8.5473236806663149e-06,\n",
       "         -2.9081336354675259e-07],\n",
       "        [ 3.5743423659460800e-06,  7.6019686294614807e-07,\n",
       "         -2.0387647825598475e-06],\n",
       "        [-1.2873850044188760e-06, -3.4331743604431422e-07,\n",
       "         -1.1152334409613025e-06],\n",
       "        [-5.2619655730711570e-08, -4.7800531601645121e-06,\n",
       "         -2.3218166686955503e-06],\n",
       "        [-4.1804526267177672e-06,  8.0326617992898828e-06,\n",
       "         -2.6157049638081843e-06],\n",
       "        [ 1.8867571327026232e-06,  7.2747241332194690e-06,\n",
       "          6.1291328808004590e-06],\n",
       "        [-3.9740512174173053e-06,  3.3715488722418883e-07,\n",
       "         -4.9598676245961547e-07],\n",
       "        [-1.7527122090072680e-07,  2.6748265982671706e-06,\n",
       "          2.7582217192868653e-06],\n",
       "        [-8.7499421026765198e-07, -5.6062426224222565e-06,\n",
       "         -6.4975721693587477e-07]]),\n",
       " 'stdout': None,\n",
       " 'stderr': None,\n",
       " 'native_files': {},\n",
       " 'success': True,\n",
       " 'error': None}"
      ]
     },
     "execution_count": 16,
     "metadata": {},
     "output_type": "execute_result"
    }
   ],
   "source": [
    "opt_result.trajectory[-1].dict()"
   ]
  },
  {
   "cell_type": "code",
   "execution_count": 17,
   "id": "fef8c343",
   "metadata": {},
   "outputs": [],
   "source": [
    "from openmm import unit\n",
    "mol._conformers=[]\n",
    "for result in opt_result.trajectory:\n",
    "    mol.add_conformer(result.molecule.geometry * unit.bohr)"
   ]
  },
  {
   "cell_type": "code",
   "execution_count": 18,
   "id": "8cf54cd8",
   "metadata": {},
   "outputs": [],
   "source": [
    "mol.to_file(\"mol.xyz\", \"xyz\")"
   ]
  },
  {
   "cell_type": "code",
   "execution_count": 19,
   "id": "ff2d6dc8",
   "metadata": {},
   "outputs": [
    {
     "data": {
      "text/plain": [
       "OptimizationInput(model={'method': 'ani2x', 'basis': None}, molecule_hash='26538b8')"
      ]
     },
     "execution_count": 19,
     "metadata": {},
     "output_type": "execute_result"
    }
   ],
   "source": [
    "ani_geo_input = OptimizationInput(initial_molecule=qcel_mol, input_specification=QCInputSpecification(model=ani_model), keywords={\"coordsys\": \"dlc\", \"maxiter\": 300, \"program\": \"torchani\"})\n",
    "ani_geo_input\n",
    "\n"
   ]
  },
  {
   "cell_type": "code",
   "execution_count": 20,
   "id": "81e7afd6",
   "metadata": {},
   "outputs": [],
   "source": [
    "ani_result = qcengine.compute_procedure(input_data=ani_geo_input, procedure=\"geometric\")"
   ]
  },
  {
   "cell_type": "code",
   "execution_count": 21,
   "id": "b015cc39",
   "metadata": {},
   "outputs": [
    {
     "data": {
      "text/plain": [
       "168"
      ]
     },
     "execution_count": 21,
     "metadata": {},
     "output_type": "execute_result"
    }
   ],
   "source": [
    "len(ani_result.trajectory)"
   ]
  }
 ],
 "metadata": {
  "kernelspec": {
   "display_name": "Python 3 (ipykernel)",
   "language": "python",
   "name": "python3"
  },
  "language_info": {
   "codemirror_mode": {
    "name": "ipython",
    "version": 3
   },
   "file_extension": ".py",
   "mimetype": "text/x-python",
   "name": "python",
   "nbconvert_exporter": "python",
   "pygments_lexer": "ipython3",
   "version": "3.9.13"
  }
 },
 "nbformat": 4,
 "nbformat_minor": 5
}
